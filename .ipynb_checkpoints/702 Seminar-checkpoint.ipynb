{
 "cells": [
  {
   "cell_type": "code",
   "execution_count": 369,
   "metadata": {},
   "outputs": [],
   "source": [
    "import numpy as np\n",
    "import pandas as pd\n",
    "\n",
    "from sklearn.feature_extraction.text import TfidfVectorizer\n",
    "from sklearn.linear_model import LogisticRegression\n",
    "from sklearn.model_selection import cross_val_score\n",
    "from sklearn.model_selection import train_test_split\n",
    "from sklearn.metrics import f1_score\n",
    "from scipy.sparse import hstack"
   ]
  },
  {
   "cell_type": "code",
   "execution_count": 370,
   "metadata": {},
   "outputs": [],
   "source": [
    "def clean(x):\n",
    "    x = \" \".join(filter(lambda x:x[0]!='@', x.split()))\n",
    "    return x "
   ]
  },
  {
   "cell_type": "code",
   "execution_count": 371,
   "metadata": {},
   "outputs": [],
   "source": [
    "data = pd.read_csv('final.csv', index_col=0)\n",
    "data = data.drop('Unnamed: 0.1',1)\n",
    "class_names = ['gender', 'age']\n",
    "train = data.iloc[0:900,:]\n",
    "#train\n",
    "test = data.iloc[901:,:]\n",
    "#test"
   ]
  },
  {
   "cell_type": "code",
   "execution_count": 372,
   "metadata": {},
   "outputs": [],
   "source": [
    "train_text = train['text']\n",
    "test_text = test['text']\n",
    "all_text = pd.concat([train_text, test_text])"
   ]
  },
  {
   "cell_type": "code",
   "execution_count": 373,
   "metadata": {},
   "outputs": [],
   "source": [
    "word_vectorizer = TfidfVectorizer(\n",
    "    sublinear_tf=True,\n",
    "    strip_accents='unicode',\n",
    "    analyzer='word',\n",
    "    token_pattern=r'\\w{1,}',\n",
    "    stop_words='english',\n",
    "    ngram_range=(1, 1),\n",
    "    max_features=10000)\n",
    "word_vectorizer.fit(all_text.values.astype('U'))\n",
    "train_word_features = word_vectorizer.transform(train_text.values.astype('U'))\n",
    "test_word_features = word_vectorizer.transform(test_text.values.astype('U'))\n",
    "\n",
    "char_vectorizer = TfidfVectorizer(\n",
    "    sublinear_tf=True,\n",
    "    strip_accents='unicode',\n",
    "    analyzer='char',\n",
    "    stop_words='english',\n",
    "    ngram_range=(2, 6),\n",
    "    max_features=50000)\n",
    "char_vectorizer.fit(all_text.values.astype('U'))\n",
    "train_char_features = char_vectorizer.transform(train_text.values.astype('U'))\n",
    "test_char_features = char_vectorizer.transform(test_text.values.astype('U'))\n",
    "\n",
    "#.values.astype('U')\n",
    "\n",
    "train_features = hstack([train_char_features, train_word_features])\n",
    "test_features = hstack([test_char_features, test_word_features])\n",
    "\n",
    "# train_features = train_word_features\n",
    "# test_features = test_word_features\n",
    "\n",
    "# train_features = train_char_features\n",
    "# test_features = test_char_features"
   ]
  },
  {
   "cell_type": "code",
   "execution_count": 374,
   "metadata": {
    "scrolled": false
   },
   "outputs": [
    {
     "name": "stdout",
     "output_type": "stream",
     "text": [
      "CV score for class gender is 0.608852727993274\n",
      "Gender Training score: 0.9922222222222222\n",
      "Gender Testing score: 0.5802469135802469\n",
      "Gender F1 Micro score: 0.5802469135802469\n",
      "Gender F1 Macro score: 0.4535714285714285\n",
      "CV score for class age is 0.4643698273125281\n",
      "Age Training score: 0.9822222222222222\n",
      "Age Testing score: 0.49382716049382713\n",
      "Age F1 Micro score: 0.49382716049382713\n",
      "Age F1 Macro score: 0.4355130993062028\n"
     ]
    }
   ],
   "source": [
    "scores = []\n",
    "result = pd.DataFrame.from_dict({'id': test['id']})\n",
    "\n",
    "for class_name in class_names:\n",
    "    train_target = train[class_name]\n",
    "    test_target = test[class_name]\n",
    "    if class_name == \"gender\":\n",
    "        classifier = LogisticRegression(solver='liblinear', multi_class='auto')\n",
    "    else:\n",
    "        classifier = LogisticRegression(solver='lbfgs', multi_class='multinomial')\n",
    "\n",
    "    cv_score = np.mean(cross_val_score(classifier, train_features, train_target, cv=3))\n",
    "    scores.append(cv_score)\n",
    "    print('CV score for class {} is {}'.format(class_name, cv_score))\n",
    "\n",
    "    classifier.fit(train_features, train_target)\n",
    "    result[class_name] = classifier.predict_proba(test_features)[:, 1]\n",
    "    print(\"{} Training score: {}\".format( class_name.capitalize(),classifier.score(train_features, train_target)))\n",
    "    print(\"{} Testing score: {}\".format( class_name.capitalize() ,classifier.score(test_features, test_target)))\n",
    "    print(\"{} F1 Micro score: {}\".format(class_name.capitalize() , f1_score(classifier.predict(test_features),test_target, average='micro')))\n",
    "    print(\"{} F1 Macro score: {}\".format(class_name.capitalize() , f1_score(classifier.predict(test_features),test_target, average='macro')))\n",
    "\n",
    "# Word-Char features\n",
    "# CV score for class gender is 0.608852727993274\n",
    "# Gender Training score: 0.9922222222222222\n",
    "# Gender Testing score: 0.5802469135802469\n",
    "# CV score for class age is 0.4643698273125281\n",
    "# Age Training score: 0.9822222222222222\n",
    "# Age Testing score: 0.49382716049382713\n",
    "\n",
    "# Word features\n",
    "# CV score for class gender is 0.5866525060154989\n",
    "# Gender Training score: 0.9422222222222222\n",
    "# Gender Testing score: 0.5679012345679012\n",
    "# CV score for class age is 0.4689288061012795\n",
    "# Age Training score: 0.9633333333333334\n",
    "# Age Testing score: 0.48148148148148145\n",
    "\n",
    "# Char features\n",
    "# CV score for class gender is 0.5922339754392333\n",
    "# Gender Testing score: 0.9244444444444444\n",
    "# Gender Testing score: 0.6296296296296297\n",
    "# CV score for class age is 0.471092013850436\n",
    "# Age Testing score: 0.9155555555555556\n",
    "# Age Testing score: 0.49382716049382713"
   ]
  },
  {
   "cell_type": "code",
   "execution_count": 375,
   "metadata": {
    "scrolled": true
   },
   "outputs": [
    {
     "ename": "IndentationError",
     "evalue": "unexpected indent (<ipython-input-375-c1e5649ef7c9>, line 21)",
     "output_type": "error",
     "traceback": [
      "\u001b[1;36m  File \u001b[1;32m\"<ipython-input-375-c1e5649ef7c9>\"\u001b[1;36m, line \u001b[1;32m21\u001b[0m\n\u001b[1;33m    print(\"{} F1 Micro score: {}\".format(class_name.capitalize() , f1_score(classifier.predict(test_features),test_target, average='micro')))\u001b[0m\n\u001b[1;37m    ^\u001b[0m\n\u001b[1;31mIndentationError\u001b[0m\u001b[1;31m:\u001b[0m unexpected indent\n"
     ]
    }
   ],
   "source": [
    "from sklearn import svm\n",
    "\n",
    "#print(test_features)\n",
    "\n",
    "scores = []\n",
    "result = pd.DataFrame.from_dict({'id': test['id']})\n",
    "\n",
    "for class_name in class_names:\n",
    "    train_target = train[class_name]\n",
    "    test_target = test[class_name]\n",
    "    classifier = svm.SVC(gamma='scale')\n",
    "\n",
    "#     cv_score = np.mean(cross_val_score(classifier, train_features, train_target, cv=3))\n",
    "#     scores.append(cv_score)\n",
    "#     print('CV score for class {} is {}'.format(class_name, cv_score))\n",
    "\n",
    "    classifier.fit(train_features, train_target)\n",
    "    result[class_name] = classifier.predict(test_features)\n",
    "    print(\"{} Training score: {}\".format( class_name.capitalize() ,classifier.score(train_features, train_target)))\n",
    "    print(\"{} Testing score: {}\".format( class_name.capitalize() ,classifier.score(test_features, test_target)))\n",
    "     print(\"{} F1 Micro score: {}\".format(class_name.capitalize() , f1_score(classifier.predict(test_features),test_target, average='micro')))\n",
    "    print(\"{} F1 Macro score: {}\".format(class_name.capitalize() , f1_score(classifier.predict(test_features),test_target, average='macro')))\n",
    "\n",
    "# Word-Char features\n",
    "# Gender Training score: 0.9966666666666667\n",
    "# Gender Testing score: 0.6049382716049383\n",
    "# Age Training score: 0.9833333333333333\n",
    "# Age Testing score: 0.43209876543209874\n",
    "\n",
    "# Word features\n",
    "# Gender Testing score: 0.9966666666666667\n",
    "# Gender Testing score: 0.6049382716049383\n",
    "# Age Testing score: 0.9822222222222222\n",
    "# Age Testing score: 0.4444444444444444\n",
    "\n",
    "# Char features \n",
    "# Training score 0.9977777777777778\n",
    "# Testing score 0.6296296296296297\n",
    "# Training score 0.9844444444444445\n",
    "# Testing score 0.4444444444444444"
   ]
  },
  {
   "cell_type": "code",
   "execution_count": null,
   "metadata": {},
   "outputs": [],
   "source": []
  },
  {
   "cell_type": "code",
   "execution_count": null,
   "metadata": {},
   "outputs": [],
   "source": []
  }
 ],
 "metadata": {
  "kernelspec": {
   "display_name": "Python 3",
   "language": "python",
   "name": "python3"
  },
  "language_info": {
   "codemirror_mode": {
    "name": "ipython",
    "version": 3
   },
   "file_extension": ".py",
   "mimetype": "text/x-python",
   "name": "python",
   "nbconvert_exporter": "python",
   "pygments_lexer": "ipython3",
   "version": "3.6.8"
  }
 },
 "nbformat": 4,
 "nbformat_minor": 2
}
