{
 "cells": [
  {
   "cell_type": "code",
   "execution_count": 29,
   "metadata": {},
   "outputs": [
    {
     "name": "stdout",
     "output_type": "stream",
     "text": [
      "Writing to JSON tweet number:1\n",
      "Writing to JSON tweet number:2\n",
      "Writing to JSON tweet number:3\n",
      "Writing to JSON tweet number:4\n",
      "Writing to JSON tweet number:5\n",
      "Writing to JSON tweet number:6\n",
      "Writing to JSON tweet number:7\n",
      "Writing to JSON tweet number:8\n",
      "Writing to JSON tweet number:9\n",
      "Writing to JSON tweet number:10\n",
      "Writing to JSON tweet number:11\n",
      "Writing to JSON tweet number:12\n",
      "Writing to JSON tweet number:13\n",
      "Writing to JSON tweet number:14\n",
      "Writing to JSON tweet number:15\n",
      "Writing to JSON tweet number:16\n",
      "Writing to JSON tweet number:17\n",
      "Writing to JSON tweet number:18\n",
      "Writing to JSON tweet number:19\n",
      "completed, errorCount =0 total tweets=20\n"
     ]
    },
    {
     "data": {
      "text/plain": [
       "'\\nhttp://docs.tweepy.org/en/v3.5.0/api.html?highlight=tweeperror#TweepError\\nNB: RateLimitError inherits TweepError.\\nhttp://docs.tweepy.org/en/v3.2.0/api.html#API  wait_on_rate_limit & wait_on_rate_limit_notify\\nNB: possibly makes the sleep redundant but leave until verified.\\n\\n'"
      ]
     },
     "execution_count": 29,
     "metadata": {},
     "output_type": "execute_result"
    }
   ],
   "source": [
    "#!/usr/bin/env python\n",
    "# encoding: utf-8\n",
    "\n",
    "import tweepy\n",
    "import json\n",
    "import time\n",
    "import csv \n",
    "import re\n",
    "\n",
    "#Enter Twitter API keys here\n",
    " consumer_key = \n",
    " consumer_secret = \n",
    " access_key = \n",
    " access_secret = \n",
    "\n",
    "\n",
    "auth = tweepy.OAuthHandler(consumer_key, consumer_secret)\n",
    "auth.set_access_token(access_key, access_secret)\n",
    "api = tweepy.API(auth, wait_on_rate_limit=True, wait_on_rate_limit_notify=True)\n",
    "#refer http://docs.tweepy.org/en/v3.2.0/api.html#API\n",
    "#tells tweepy.API to automatically wait for rate limits to replenish\n",
    "\n",
    "special_symbols_pattern = re.compile(u'['u'\\U0001F680-\\U0001F6FF'\n",
    "                                    u'\\U0001F600-\\U0001F64F'\n",
    "                                    u'\\U0001F300-\\U0001F5FF'\n",
    "                                    u'\\U0001F1E0-\\U0001F1FF'\n",
    "                                    ']+', \n",
    "                                    re.UNICODE)\n",
    "\n",
    "#regex = re.compile(r'\\d+(.*?)(?:\\u263a|\\U0001f645)')\n",
    "\n",
    "users =tweepy.Cursor(api.search,q=\"the\", lang='en',tweet_mode='extended').items()\n",
    "count = 0\n",
    "errorCount=0\n",
    "file = open('retrieve.json', 'w') # CHANGE DIS\n",
    "while True:\n",
    "    try:\n",
    "        user = next(users)\n",
    "        #use count-break during dev to avoid twitter restrictions\n",
    "        #if (count>10):\n",
    "        #    break\n",
    "    except tweepy.TweepError:\n",
    "        #catches TweepError when rate limiting occurs, sleeps, then restarts.\n",
    "        #nominally 15 minnutes, make a bit longer to avoid attention.\n",
    "        print(\"sleeping....\")\n",
    "        time.sleep(60*16)\n",
    "        user = next(users)\n",
    "    except StopIteration:\n",
    "        break\n",
    "    try:\n",
    "        count += 1\n",
    "        if(count==20):\n",
    "            break\n",
    "        print(\"Writing to JSON tweet number:\"+str(count))\n",
    "        tweet = {}\n",
    "        #text = user._json[\"text\"]\n",
    "        emojis = []\n",
    "        #emojis.extend(special_symbols_pattern.findall(text))\n",
    "        tweet[\"id\"] = user.id\n",
    "        text = user.full_text\n",
    "        text = re.sub(r\"http\\S+\", \"\", text)\n",
    "        tweet[\"text\"] = text.encode('ascii', 'ignore').decode('ascii')\n",
    "        #json.dump(user._json,file,sort_keys = True,indent = 4)\n",
    "        json.dump(tweet,file,sort_keys = True,indent = 4)\n",
    "        \n",
    "    except UnicodeEncodeError:\n",
    "        errorCount += 1\n",
    "        print(\"UnicodeEncodeError,errorCount =\"+str(errorCount))\n",
    "\n",
    "file.close()\n",
    "print(\"completed, errorCount =\"+str(errorCount)+\" total tweets=\"+str(count))\n",
    "    \n",
    "    #todo: write users to file, search users for interests, locations etc.\n",
    "\n",
    "\"\"\"\n",
    "http://docs.tweepy.org/en/v3.5.0/api.html?highlight=tweeperror#TweepError\n",
    "NB: RateLimitError inherits TweepError.\n",
    "http://docs.tweepy.org/en/v3.2.0/api.html#API  wait_on_rate_limit & wait_on_rate_limit_notify\n",
    "NB: possibly makes the sleep redundant but leave until verified.\n",
    "\n",
    "\"\"\"\n",
    "\n"
   ]
  },
  {
   "cell_type": "code",
   "execution_count": 27,
   "metadata": {},
   "outputs": [
    {
     "name": "stdout",
     "output_type": "stream",
     "text": [
      "{'id': 1124125519920996353, 'text': 'RT @Irfan_Syed01: Are you a victim of abusive behaviour? Is someone getting the better of you? Read Issue 02 of the Messiah Herald and disc'}\n"
     ]
    }
   ],
   "source": []
  },
  {
   "cell_type": "code",
   "execution_count": 28,
   "metadata": {},
   "outputs": [
    {
     "name": "stdout",
     "output_type": "stream",
     "text": [
      "RT @Irfan_Syed01: Are you a victim of abusive behaviour? Is someone getting the better of you? Read Issue 02 of the Messiah Herald and disc\n",
      "RT @Irfan_Syed01: Are you a victim of abusive behaviour? Is someone getting the better of you? Read Issue 02 of the Messiah Herald and disc\n"
     ]
    }
   ],
   "source": []
  },
  {
   "cell_type": "code",
   "execution_count": null,
   "metadata": {},
   "outputs": [],
   "source": []
  }
 ],
 "metadata": {
  "kernelspec": {
   "display_name": "Python 3",
   "language": "python",
   "name": "python3"
  },
  "language_info": {
   "codemirror_mode": {
    "name": "ipython",
    "version": 3
   },
   "file_extension": ".py",
   "mimetype": "text/x-python",
   "name": "python",
   "nbconvert_exporter": "python",
   "pygments_lexer": "ipython3",
   "version": "3.6.8"
  }
 },
 "nbformat": 4,
 "nbformat_minor": 2
}
